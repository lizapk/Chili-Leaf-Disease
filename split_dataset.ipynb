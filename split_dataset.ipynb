{
 "cells": [
  {
   "cell_type": "code",
   "execution_count": 1,
   "metadata": {
    "id": "jt9mz6srMmBL"
   },
   "outputs": [],
   "source": [
    "import os\n",
    "import shutil\n",
    "from sklearn.model_selection import train_test_split"
   ]
  },
  {
   "cell_type": "code",
   "execution_count": null,
   "metadata": {
    "id": "2NmQFAylMmBO"
   },
   "outputs": [],
   "source": [
    "dir = 'D:/KULIAH/SEM9/SKRIPSI/CABAI/CODE/FINAL-CODE/dataset/toSplit/'"
   ]
  },
  {
   "cell_type": "code",
   "execution_count": 5,
   "metadata": {
    "colab": {
     "base_uri": "https://localhost:8080/"
    },
    "id": "wxkhC_51MmBP",
    "outputId": "ef4de839-fb1c-4520-d4c9-fddb71568cdb"
   },
   "outputs": [
    {
     "data": {
      "text/plain": [
       "['healthy',\n",
       " 'leaf curl',\n",
       " 'leaf spot',\n",
       " 'powdery mildew',\n",
       " 'whitefly',\n",
       " 'yellowish']"
      ]
     },
     "execution_count": 5,
     "metadata": {},
     "output_type": "execute_result"
    }
   ],
   "source": [
    "folder_contents = os.listdir(dir)\n",
    "folder_contents"
   ]
  },
  {
   "cell_type": "code",
   "execution_count": 6,
   "metadata": {
    "id": "WrbXUBNrMmBQ"
   },
   "outputs": [],
   "source": [
    "# List of folder names (class names)\n",
    "classes = ['healthy', 'leaf curl', 'leaf spot', 'powdery mildew', 'whitefly', 'yellowish']\n",
    "\n",
    "# Create directories for train, val, and test splits\n",
    "output_dirs = ['train', 'val', 'test']\n",
    "for output_dir in output_dirs:\n",
    "    for class_name in classes:\n",
    "        os.makedirs(os.path.join(dir, output_dir, class_name), exist_ok=True)\n",
    "\n",
    "# Split ratio for train, validation, and test\n",
    "train_ratio = 0.7\n",
    "val_ratio = 0.2\n",
    "test_ratio = 0.1"
   ]
  },
  {
   "cell_type": "code",
   "execution_count": 8,
   "metadata": {
    "colab": {
     "base_uri": "https://localhost:8080/"
    },
    "id": "aKJs4gYXMmBQ",
    "outputId": "d5295618-b059-4587-b279-2f1aad94d585"
   },
   "outputs": [
    {
     "name": "stdout",
     "output_type": "stream",
     "text": [
      "No files found in D:/KULIAH/SEM9/SKRIPSI/CABAI/CODE/FINAL-CODE/dataset/toSplit\\leaf curl. Skipping this class.\n",
      "No files found in D:/KULIAH/SEM9/SKRIPSI/CABAI/CODE/FINAL-CODE/dataset/toSplit\\leaf spot. Skipping this class.\n",
      "No files found in D:/KULIAH/SEM9/SKRIPSI/CABAI/CODE/FINAL-CODE/dataset/toSplit\\whitefly. Skipping this class.\n",
      "No files found in D:/KULIAH/SEM9/SKRIPSI/CABAI/CODE/FINAL-CODE/dataset/toSplit\\yellowish. Skipping this class.\n",
      "Dataset split completed!\n"
     ]
    }
   ],
   "source": [
    "# Function to split and move files\n",
    "def split_and_move_files(class_name):\n",
    "    # Get all files in the class folder\n",
    "    class_dir = os.path.join(dir, class_name)\n",
    "    files = [f for f in os.listdir(class_dir) if f.endswith(('.jpeg', '.png', '.jpg','.JPEG','.PNG', '.JPG'))]  # filter only image files\n",
    "\n",
    "    if not files:\n",
    "        print(f\"No files found in {class_dir}. Skipping this class.\")\n",
    "        return\n",
    "\n",
    "    # Split the files into train, val, and test\n",
    "    train_files, val_test_files = train_test_split(files, test_size=(val_ratio + test_ratio), random_state=42)\n",
    "    val_files, test_files = train_test_split(val_test_files, test_size=(test_ratio / (val_ratio + test_ratio)), random_state=42)\n",
    "\n",
    "    # Move files to respective directories\n",
    "    for file in train_files:\n",
    "        shutil.move(os.path.join(class_dir, file), os.path.join(dir, 'train', class_name, file))\n",
    "    for file in val_files:\n",
    "        shutil.move(os.path.join(class_dir, file), os.path.join(dir, 'val', class_name, file))\n",
    "    for file in test_files:\n",
    "        shutil.move(os.path.join(class_dir, file), os.path.join(dir, 'test', class_name, file))\n",
    "\n",
    "# Perform the split and move for each class\n",
    "for class_name in classes:\n",
    "    split_and_move_files(class_name)\n",
    "\n",
    "print(\"Dataset split completed!\")"
   ]
  },
  {
   "cell_type": "code",
   "execution_count": null,
   "metadata": {
    "id": "rACblBg-MmBR"
   },
   "outputs": [],
   "source": []
  }
 ],
 "metadata": {
  "colab": {
   "provenance": []
  },
  "kernelspec": {
   "display_name": "Python 3",
   "language": "python",
   "name": "python3"
  },
  "language_info": {
   "codemirror_mode": {
    "name": "ipython",
    "version": 3
   },
   "file_extension": ".py",
   "mimetype": "text/x-python",
   "name": "python",
   "nbconvert_exporter": "python",
   "pygments_lexer": "ipython3",
   "version": "3.9.7"
  }
 },
 "nbformat": 4,
 "nbformat_minor": 0
}
